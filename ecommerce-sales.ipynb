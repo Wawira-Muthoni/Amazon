{
 "cells": [
  {
   "cell_type": "code",
   "execution_count": null,
   "metadata": {},
   "outputs": [],
   "source": [
    "#Import the amazon.csv dataset into a Pandas DataFrame\n",
    "import pandas as pd\n",
    "import seaborn as sns\n",
    "import matplotlib.pyplot as plt\n",
    "df= pd.read_csv('amazon.csv')\n"
   ]
  },
  {
   "cell_type": "code",
   "execution_count": null,
   "metadata": {},
   "outputs": [],
   "source": [
    "#Display the first few rows and understand the data structure.\n",
    "print(\"First 5 rows:\")\n",
    "print(df.head())\n",
    "print(df.info())\n",
    "print(df.describe())\n",
    "print(df.shape)\n",
    "print(df.dtypes)"
   ]
  },
  {
   "cell_type": "code",
   "execution_count": null,
   "metadata": {},
   "outputs": [],
   "source": [
    "#Check for missing values and handle them appropriately.\n",
    "print(\"Missing values per column\")\n",
    "print(df.isnull().sum())\n",
    "\n",
    "#cleaning the rating_count column\n",
    "print(df['rating_count'].dtypes)\n",
    "df['rating_count'] = pd.to_numeric(df['rating_count'] ,errors='coerce')\n",
    "median_rating_count = df['rating_count'].median()\n",
    "df['rating_count'].fillna(median_rating_count,inplace=True)\n"
   ]
  },
  {
   "cell_type": "code",
   "execution_count": null,
   "metadata": {},
   "outputs": [],
   "source": [
    "# Convert price-related columns (discounted_price, actual_price) to numerical format.\n",
    "\n",
    "\n",
    "print(df['discounted_price'].dtype)#inspect data type\n",
    "print(df['actual_price'].dtype)\n",
    "\n",
    "\n",
    "#display sample values\n",
    "print(df['discounted_price'].head())\n",
    "\n",
    "\n",
    "#convert discounted_price\n",
    "df['discounted_price'] = df['discounted_price'].str.replace('&','', regex=False)\n",
    "df['discounted_price'] =pd.to_numeric(df['discounted_price'],errors = 'coerce')\n",
    "print(df['discounted_price'].dtype)\n",
    "\n",
    "#convert actual_price\n",
    "df['actual_price'] = df['actual_price'].str.replace('&','',regex=False).str.replace(',','')\n",
    "df['actual_price'] =pd.to_numeric(df['actual_price'],errors = 'coerce')\n",
    "print(df['actual_price'].dtype)\n",
    "\n",
    "\n"
   ]
  },
  {
   "cell_type": "code",
   "execution_count": null,
   "metadata": {},
   "outputs": [],
   "source": [
    "#Convert rating_count to integer values (remove commas if present).\n",
    "print(df['rating_count'].dtype)\n",
    "print(df['rating_count'].head)\n",
    "\n",
    "#convert to integer\n",
    "df['rating_count'] = df['rating_count'].astype(int)\n",
    "print(df['rating_count'].head)\n"
   ]
  },
  {
   "cell_type": "code",
   "execution_count": null,
   "metadata": {},
   "outputs": [],
   "source": [
    "#Extract relevant product categories from category column.\n",
    "\n",
    "df['main_category'] = df['category'].str.split('|').str[0]\n",
    "print(df['main_category'].unique())\n",
    "  "
   ]
  },
  {
   "cell_type": "code",
   "execution_count": null,
   "metadata": {},
   "outputs": [],
   "source": [
    "#Create a new column for discount_amount (actual_price -discounted_price)\n",
    "df['discount_amount'] = df['actual_price']-df['discounted_price']\n",
    "print(df[['actual_price','discounted_price','discount_amount']].head)\n",
    "print(df['discount_amount'].dtype)\n"
   ]
  },
  {
   "cell_type": "code",
   "execution_count": null,
   "metadata": {},
   "outputs": [],
   "source": [
    "#Convert discount_percentage into a numeric value\n",
    "\n",
    "#display sample values\n",
    "print(df['discount_percentage'].head)\n",
    "df['discount_percentage'] = df['discount_percentage'].str.replace('%', '',regex=False)\n",
    "df['discount_percentage'] = pd.to_numeric(df['discount_percentage'],errors='coerce')\n",
    "print(df['discount_percentage'].dtype)\n",
    "print(df['discount_percentage'].head)\n"
   ]
  },
  {
   "cell_type": "code",
   "execution_count": null,
   "metadata": {},
   "outputs": [],
   "source": [
    "#Extract the year of reviews if a timestamp is present.\n",
    "\n",
    "if 'review_timestamp' in df.columns:\n",
    "    print(\"Timestamp column 'review_timestamp' is present\")\n",
    "else:\n",
    "    print(\"Timestamp column 'review_timestamp' not present\")    "
   ]
  },
  {
   "cell_type": "code",
   "execution_count": null,
   "metadata": {},
   "outputs": [],
   "source": [
    "#Show the distribution of ratings using a histogram.\n",
    "\n",
    "print(df['rating'].dtype)\n",
    "\n",
    "df['rating'] = pd.to_numeric(df['rating'],errors='coerce')\n",
    "\n",
    "plt.figure(figsize=(8,8))\n",
    "plt.hist(df['rating'],edgecolor = 'black')\n",
    "plt.title('Distributions of Ratings')\n",
    "plt.xlabel('X-axis')\n",
    "plt.ylabel('Y-axis')\n",
    "\n",
    "plt.show()"
   ]
  },
  {
   "cell_type": "code",
   "execution_count": null,
   "metadata": {},
   "outputs": [],
   "source": [
    "#Find the correlation between discount_percentage and rating\n",
    "correlation = df['discount_percentage'].corr(df['rating'])\n",
    "print(f\"Correlation between discount_percentage and rating: {correlation}\")"
   ]
  },
  {
   "cell_type": "code",
   "execution_count": null,
   "metadata": {},
   "outputs": [],
   "source": [
    "#Identify top-selling product categories\n",
    "df[\"main_category\"] = df[\"category\"].str.split('|').str[0]\n",
    "category_counts = df[\"main_category\"].value_counts()\n",
    "top_5_categories = category_counts.head(5)\n",
    "\n",
    "print(top_5_categories)\n",
    "\n"
   ]
  },
  {
   "cell_type": "code",
   "execution_count": null,
   "metadata": {},
   "outputs": [],
   "source": [
    "#Analyze the relationship between discount and rating_count.\n",
    "\n",
    "bins = [0, 10, 20, 30, 40, 50, 100]  \n",
    "labels = ['0-10%', '10-20%', '20-30%', '30-40%', '40-50%', '50%+']\n",
    "df['discount_range'] = pd.cut(df['discount_percentage'], bins=bins, labels=labels, right=False)\n",
    "\n",
    "# Create box plot\n",
    "plt.figure(figsize=(12, 8))\n",
    "sns.boxplot(x='discount_range', y='rating_count', data=df)\n",
    "plt.title('Rating Count by Discount Range')\n",
    "plt.xlabel('Discount Range')\n",
    "plt.ylabel('Rating Count')\n",
    "plt.xticks(rotation=45)\n",
    "plt.show()\n"
   ]
  },
  {
   "cell_type": "code",
   "execution_count": null,
   "metadata": {},
   "outputs": [],
   "source": [
    "#Create a bar chart showing the top 10 highest-rated products.\n",
    "\n",
    "top_10_products = df.sort_values(by='rating',ascending=False).head(10)\n",
    "def shorten_name(product_name):\n",
    "    words = product_name.split()\n",
    "    if len(words) > 3:\n",
    "        return ' '.join(words[:3]) + '...'\n",
    "    else:\n",
    "        return product_name\n",
    "top_10_products['short_name'] = top_10_products['product_name'].apply(shorten_name)\n",
    "    \n",
    "plt.figure(figsize=(8,6))\n",
    "plt.bar(top_10_products['short_name'],top_10_products['rating'],color='lightblue')\n",
    "plt.title(\"Top 10 Rated Products\")\n",
    "plt.xlabel('Product Name')\n",
    "plt.xlabel('rating')\n",
    "plt.xticks(rotation=90) \n",
    "\n",
    "plt.show()"
   ]
  },
  {
   "cell_type": "code",
   "execution_count": null,
   "metadata": {},
   "outputs": [],
   "source": [
    "#Plot a scatter plot of discount_percentage vs rating.\n",
    "plt.figure(figsize=(10, 6))\n",
    "sns.scatterplot(x='discount_percentage', y='rating', data=df)\n",
    "plt.title('Discount Percentage vs. Rating')\n",
    "plt.xlabel('Discount Percentage (%)')\n",
    "plt.ylabel('Rating')\n",
    "plt.grid(True)\n",
    "plt.show()"
   ]
  },
  {
   "cell_type": "code",
   "execution_count": null,
   "metadata": {},
   "outputs": [],
   "source": [
    "#Show the top-selling categories using a pie chart.\n",
    "top_categories = df.groupby(df['category'].str.split('|').str[0])['rating_count'].sum().nlargest(5)\n",
    "\n",
    "# Create pie chart\n",
    "plt.figure(figsize=(8, 8))\n",
    "plt.pie(top_categories, labels=top_categories.index, autopct='%1.1f%%', startangle=140)\n",
    "plt.title('Top 5 Selling Categories')\n",
    "plt.axis('equal')\n",
    "plt.show()"
   ]
  },
  {
   "cell_type": "code",
   "execution_count": null,
   "metadata": {},
   "outputs": [],
   "source": [
    "#Use a heatmap to show correlations between numerical columns\n",
    "numerical_cols = ['rating', 'rating_count', 'discount_percentage', 'discount_amount', 'actual_price', 'discounted_price']\n",
    "correlation_matrix = df[numerical_cols].corr()\n",
    "\n",
    "# Create the heatmap\n",
    "plt.figure(figsize=(10, 8))\n",
    "sns.heatmap(correlation_matrix, annot=True, cmap='magma', fmt=\".2f\")\n",
    "plt.title('Correlation Heatmap of Numerical Columns')\n",
    "plt.show()\n"
   ]
  },
  {
   "cell_type": "code",
   "execution_count": null,
   "metadata": {},
   "outputs": [],
   "source": [
    "#Based on the analysis, suggest which product categories should be prioritized for discounts.\n",
    "Answer = \"The heatmap suggests that discounts are not a primary driver ratings.\""
   ]
  },
  {
   "cell_type": "code",
   "execution_count": null,
   "metadata": {},
   "outputs": [],
   "source": [
    "# Recommend strategies to improve sales and customer engagement.\n",
    "Answer1 = \"Ensure products descriptions are accurate and highlight key features and benefits.\"\n",
    "Answer2 =\"Provide prompt and helpful customer support.\"\n"
   ]
  },
  {
   "cell_type": "code",
   "execution_count": null,
   "metadata": {},
   "outputs": [],
   "source": [
    "#Discuss any anomalies or patterns found in the data\n",
    "Answer =\"As observed in the heatmap the weak correlation between discount_percentage and ratings\",\n",
    "\"suggests customers might be perceiving products with higher discounts as being of lower quality or value.\""
   ]
  }
 ],
 "metadata": {
  "kernelspec": {
   "display_name": "myenv",
   "language": "python",
   "name": "myenv"
  },
  "language_info": {
   "codemirror_mode": {
    "name": "ipython",
    "version": 3
   },
   "file_extension": ".py",
   "mimetype": "text/x-python",
   "name": "python",
   "nbconvert_exporter": "python",
   "pygments_lexer": "ipython3",
   "version": "3.13.2"
  }
 },
 "nbformat": 4,
 "nbformat_minor": 2
}
